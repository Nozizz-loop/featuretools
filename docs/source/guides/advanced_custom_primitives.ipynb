{
 "cells": [
  {
   "cell_type": "raw",
   "metadata": {
    "raw_mimetype": "text/restructuredtext"
   },
   "source": [
    "Advanced Custom Primitives Guide\n",
    "--------------------------------\n",
    "\n",
    "Primitives With Additional Arguments\n",
    "===================================="
   ]
  },
  {
   "cell_type": "code",
   "execution_count": null,
   "metadata": {},
   "outputs": [],
   "source": [
    "import featuretools as ft\n",
    "from featuretools.primitives import TransformPrimitive\n",
    "from featuretools.variable_types import NaturalLanguage, Numeric"
   ]
  },
  {
   "cell_type": "raw",
   "metadata": {
    "raw_mimetype": "text/restructuredtext"
   },
   "source": [
    "Custom primitives can take additional arguments to create advanced features. To do this, define each argument as a *keyword* argument in the constructor of the primitive.\n",
    "\n",
    "\n",
    "String Count Example\n",
    "~~~~~~~~~~~~~~~~~~~~\n",
    "\n",
    "Make a primitive to count the number of times a specific string value occurs inside a text. First, derive a new transform primitive class from :class:`TransformPrimitive`. The primitive will take a text column as the input and return a numeric column as the output, so set the input type as :class:`NaturalLanguage` and the return type as :class:`Numeric`. The specific string value is the additional argument, so define it as a *keyword* argument inside :meth:`__init__`. Then, override :meth:`get_function` to return the implementation as a function."
   ]
  },
  {
   "cell_type": "code",
   "execution_count": null,
   "metadata": {},
   "outputs": [],
   "source": [
    "class StringCount(TransformPrimitive):\n",
    "    '''Count the number of times the string value occurs.'''\n",
    "    name = 'string_count'\n",
    "    input_types = [NaturalLanguage]\n",
    "    return_type = Numeric\n",
    "\n",
    "    def __init__(self, string=None):\n",
    "        self.string = string\n",
    "\n",
    "    def get_function(self):\n",
    "        def string_count(column):\n",
    "            assert self.string is not None, \"string to count needs to be defined\"\n",
    "            # this is a naive implementation used for clarity\n",
    "            counts = [text.lower().count(self.string) for text in column]\n",
    "            return counts\n",
    "\n",
    "        return string_count"
   ]
  },
  {
   "cell_type": "raw",
   "metadata": {
    "raw_mimetype": "text/restructuredtext"
   },
   "source": [
    "Now you have a primitive that is reusable for different string values. For example, you can create features based on the number of times the word \"the\" appears in a text. Create an instance of the primitive where the string value is \"the\" and pass the primitive into DFS to generate the features. The feature names will automatically reflect the string value of the primitive."
   ]
  },
  {
   "cell_type": "code",
   "execution_count": null,
   "metadata": {},
   "outputs": [],
   "source": [
    "from featuretools.tests.testing_utils import make_ecommerce_entityset\n",
    "\n",
    "es = make_ecommerce_entityset()\n",
    "\n",
    "feature_matrix, features = ft.dfs(\n",
    "    entityset=es,\n",
    "    target_entity=\"sessions\",\n",
    "    agg_primitives=[\"sum\", \"mean\", \"std\"],\n",
    "    trans_primitives=[StringCount(string=\"the\")],\n",
    ")\n",
    "\n",
    "feature_matrix[[\n",
    "    'STD(log.STRING_COUNT(comments, string=the))',\n",
    "    'SUM(log.STRING_COUNT(comments, string=the))',\n",
    "    'MEAN(log.STRING_COUNT(comments, string=the))',\n",
    "]]"
   ]
  },
  {
   "cell_type": "raw",
   "metadata": {
    "raw_mimetype": "text/restructuredtext"
   },
   "source": [
    "Features with Multiple Outputs\n",
    "======================================="
   ]
  },
  {
   "cell_type": "code",
   "execution_count": null,
   "metadata": {},
   "outputs": [],
   "source": [
    "import featuretools as ft\n",
    "import numpy as np\n",
    "import re\n",
    "from featuretools.primitives import make_trans_primitive\n",
    "from featuretools.variable_types import NaturalLanguage, Numeric"
   ]
  },
  {
   "cell_type": "raw",
   "metadata": {
    "raw_mimetype": "text/restructuredtext"
   },
   "source": [
    "With the ``make_primitive`` functions, it is possible to have multiple columns output from a single feature. In order to do that, the output must be formatted as a list of arrays/series where each item in the list corresponds to an output from the primitive. In each of these list items (either arrays or series), there must be one element for each input element.\n",
    "\n",
    "Take, for example, a primitive called ``case_count``. For each given string, this primitive outputs the number of uppercase and the number of lowercase letters. So, this primitive must return a list with 2 elements, one corresponding to the number of lowercase letters and one corresponding to the number of uppercase letters. Each element in the list is a series/array having the same number of elements as the number of input strings. Below you can see this example in action, as well as the proper way to specify multiple outputs in the ``make_trans_primitive`` function."
   ]
  },
  {
   "cell_type": "code",
   "execution_count": null,
   "metadata": {},
   "outputs": [],
   "source": [
    "def case_count(array):\n",
    "    '''Return the count of upper case and lower case letters in text'''\n",
    "    # this is a naive implementation used for clarity\n",
    "    upper = np.array([len(re.findall('[A-Z]', i)) for i in array])\n",
    "    lower = np.array([len(re.findall('[a-z]', i)) for i in array])\n",
    "    ret = [upper, lower]\n",
    "    return ret"
   ]
  },
  {
   "cell_type": "raw",
   "metadata": {
    "raw_mimetype": "text/restructuredtext"
   },
   "source": [
    "We must use the ``num_output_features`` attribute to specify the number of outputs when creating the primitive using the ``make_trans_primitive`` function."
   ]
  },
  {
   "cell_type": "code",
   "execution_count": null,
   "metadata": {},
   "outputs": [],
   "source": [
    "CaseCount = make_trans_primitive(\n",
    "    function=case_count,\n",
    "    input_types=[NaturalLanguage],\n",
    "    return_type=Numeric,\n",
    "    number_output_features=2,\n",
    ")\n",
    "\n",
    "es = make_ecommerce_entityset()"
   ]
  },
  {
   "cell_type": "raw",
   "metadata": {
    "raw_mimetype": "text/restructuredtext"
   },
   "source": [
    "When we call ``dfs`` on this entityset, there are 6 instances (one for each of the strings in the dataset) of our two created features in this feature matrix."
   ]
  },
  {
   "cell_type": "code",
   "execution_count": null,
   "metadata": {},
   "outputs": [],
   "source": [
    "feature_matrix, features = ft.dfs(\n",
    "    entityset=es,\n",
    "    target_entity=\"sessions\",\n",
    "    agg_primitives=[],\n",
    "    trans_primitives=[CaseCount],\n",
    ")\n",
    "\n",
    "feature_matrix[[\n",
    "    'customers.CASE_COUNT(favorite_quote)[0]',\n",
    "    'customers.CASE_COUNT(favorite_quote)[1]',\n",
    "]]"
   ]
  },
  {
   "cell_type": "raw",
   "metadata": {
    "raw_mimetype": "text/restructuredtext"
   },
   "source": [
    ".. Primitives That Use External Data Files\n",
    ".. =======================================\n",
    ".. Some primitives require external data files in order to perform their computation. For example, imagine a primitive that uses a pre-trained sentiment classifier to classify text. Here is how that would be implemented\n",
    "\n",
    ".. .. ipython:: python\n",
    "\n",
    "..     from featuretools.primitives import TransformPrimitive\n",
    "\n",
    "..     class Sentiment(TransformPrimitive):\n",
    "..         '''Reads in a NaturalLanguage field and returns \"negative\", \"neutral\", or \"positive\"'''\n",
    "..         name = \"sentiment\"\n",
    "..         input_types = [NaturalLanguage]\n",
    "..         return_type = Categorical\n",
    "..         def get_function(self):\n",
    "..             filepath = self.get_filepath('sentiment_model.pickle') # returns absolute path to the file\n",
    "..             import pickle\n",
    "..             with open(filepath, 'r') as f:\n",
    "..                 model = pickle.load(f)\n",
    "..             def predict(x):\n",
    "..                 return model.predict(x)\n",
    "..             return predict\n",
    "\n",
    "\n",
    ".. The ``get_filepath`` method is used to find the location of the trained model.\n",
    "\n",
    ".. .. note::\n",
    "\n",
    "..     The primitive loads the model within the `get_function` method, but outside of the `score` function.  This way the model is loaded from disk only once when the Featuretools backend requests the primitive function instead of every time `score` is called."
   ]
  }
 ],
 "metadata": {
  "celltoolbar": "Raw Cell Format",
  "kernelspec": {
   "display_name": "Python 3",
   "language": "python",
   "name": "python3"
  },
  "language_info": {
   "codemirror_mode": {
    "name": "ipython",
    "version": 3
   },
   "file_extension": ".py",
   "mimetype": "text/x-python",
   "name": "python",
   "nbconvert_exporter": "python",
   "pygments_lexer": "ipython3",
   "version": "3.7.5"
  }
 },
 "nbformat": 4,
 "nbformat_minor": 4
}
